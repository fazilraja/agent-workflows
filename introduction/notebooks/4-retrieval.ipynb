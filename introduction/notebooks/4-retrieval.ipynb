{
 "cells": [
  {
   "cell_type": "code",
   "execution_count": 4,
   "metadata": {},
   "outputs": [
    {
     "name": "stdout",
     "output_type": "stream",
     "text": [
      "sample_mflix\n",
      "admin\n",
      "local\n"
     ]
    }
   ],
   "source": [
    "import datetime   # This will be needed later\n",
    "import os\n",
    "\n",
    "from dotenv import load_dotenv\n",
    "from pymongo import MongoClient\n",
    "\n",
    "# Load config from a .env file:\n",
    "load_dotenv()\n",
    "MONGODB_URI = os.environ['MONGODB_URI']\n",
    "\n",
    "# Connect to your MongoDB cluster:\n",
    "client = MongoClient(MONGODB_URI)\n",
    "\n",
    "# List all the databases in the cluster:\n",
    "for db_info in client.list_database_names():\n",
    "   print(db_info)"
   ]
  },
  {
   "cell_type": "code",
   "execution_count": 6,
   "metadata": {},
   "outputs": [
    {
     "name": "stdout",
     "output_type": "stream",
     "text": [
      "['kb']\n",
      "{'_id': ObjectId('67aaeb17b8a15213f3af65cb'), 'id': 1, 'question': 'What is the return policy?', 'answer': 'Items can be returned within 30 days of purchase with original receipt. Refunds will be processed to the original payment method within 5-7 business days.'}\n",
      "{'_id': ObjectId('67aaeb17b8a15213f3af65cb'), 'id': 1, 'question': 'What is the return policy?', 'answer': 'Items can be returned within 30 days of purchase with original receipt. Refunds will be processed to the original payment method within 5-7 business days.'}\n"
     ]
    }
   ],
   "source": [
    "# create a table and insert the data from the json file\n",
    "import json\n",
    "# read the json file\n",
    "with open('../kb.json', 'r') as f:\n",
    "    data = json.load(f)\n",
    "\n",
    "# create a table and insert the data\n",
    "client['ai-workflow']['kb'].insert_many(data['records'])\n",
    "\n",
    "# list the tables\n",
    "print(client['ai-workflow'].list_collection_names())\n",
    "\n",
    "# read the data from the table\n",
    "print(client['ai-workflow']['kb'].find_one())\n",
    "\n",
    "# read the data from the table\n",
    "print(client['ai-workflow']['kb'].find_one())\n",
    "\n"
   ]
  }
 ],
 "metadata": {
  "kernelspec": {
   "display_name": "venv",
   "language": "python",
   "name": "python3"
  },
  "language_info": {
   "codemirror_mode": {
    "name": "ipython",
    "version": 3
   },
   "file_extension": ".py",
   "mimetype": "text/x-python",
   "name": "python",
   "nbconvert_exporter": "python",
   "pygments_lexer": "ipython3",
   "version": "3.11.10"
  }
 },
 "nbformat": 4,
 "nbformat_minor": 2
}
